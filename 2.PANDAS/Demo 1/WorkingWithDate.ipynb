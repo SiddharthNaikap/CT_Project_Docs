{
 "cells": [
  {
   "cell_type": "code",
   "execution_count": 43,
   "id": "7ca3773f",
   "metadata": {},
   "outputs": [
    {
     "data": {
      "text/html": [
       "<div>\n",
       "<style scoped>\n",
       "    .dataframe tbody tr th:only-of-type {\n",
       "        vertical-align: middle;\n",
       "    }\n",
       "\n",
       "    .dataframe tbody tr th {\n",
       "        vertical-align: top;\n",
       "    }\n",
       "\n",
       "    .dataframe thead th {\n",
       "        text-align: right;\n",
       "    }\n",
       "</style>\n",
       "<table border=\"1\" class=\"dataframe\">\n",
       "  <thead>\n",
       "    <tr style=\"text-align: right;\">\n",
       "      <th></th>\n",
       "      <th>Open</th>\n",
       "      <th>High</th>\n",
       "      <th>Low</th>\n",
       "      <th>Close</th>\n",
       "      <th>Volume</th>\n",
       "    </tr>\n",
       "    <tr>\n",
       "      <th>Date</th>\n",
       "      <th></th>\n",
       "      <th></th>\n",
       "      <th></th>\n",
       "      <th></th>\n",
       "      <th></th>\n",
       "    </tr>\n",
       "  </thead>\n",
       "  <tbody>\n",
       "    <tr>\n",
       "      <th>2022-07-07</th>\n",
       "      <td>565.66</td>\n",
       "      <td>42343</td>\n",
       "      <td>3434</td>\n",
       "      <td>434</td>\n",
       "      <td>4445445</td>\n",
       "    </tr>\n",
       "    <tr>\n",
       "      <th>2022-07-08</th>\n",
       "      <td>323.33</td>\n",
       "      <td>23342</td>\n",
       "      <td>5454</td>\n",
       "      <td>5454</td>\n",
       "      <td>4554445</td>\n",
       "    </tr>\n",
       "    <tr>\n",
       "      <th>2022-07-07</th>\n",
       "      <td>443.44</td>\n",
       "      <td>42344</td>\n",
       "      <td>6433</td>\n",
       "      <td>233</td>\n",
       "      <td>7666756</td>\n",
       "    </tr>\n",
       "    <tr>\n",
       "      <th>2022-07-06</th>\n",
       "      <td>2432.44</td>\n",
       "      <td>433432</td>\n",
       "      <td>2323</td>\n",
       "      <td>768</td>\n",
       "      <td>89765</td>\n",
       "    </tr>\n",
       "    <tr>\n",
       "      <th>2022-07-30</th>\n",
       "      <td>432.40</td>\n",
       "      <td>23434</td>\n",
       "      <td>1332</td>\n",
       "      <td>2332</td>\n",
       "      <td>6786578</td>\n",
       "    </tr>\n",
       "    <tr>\n",
       "      <th>2022-07-30</th>\n",
       "      <td>55.66</td>\n",
       "      <td>234234</td>\n",
       "      <td>3443</td>\n",
       "      <td>5445</td>\n",
       "      <td>8776876</td>\n",
       "    </tr>\n",
       "    <tr>\n",
       "      <th>2022-07-18</th>\n",
       "      <td>6444.40</td>\n",
       "      <td>423234</td>\n",
       "      <td>55445</td>\n",
       "      <td>3434</td>\n",
       "      <td>8879878</td>\n",
       "    </tr>\n",
       "  </tbody>\n",
       "</table>\n",
       "</div>"
      ],
      "text/plain": [
       "               Open    High    Low  Close   Volume\n",
       "Date                                              \n",
       "2022-07-07   565.66   42343   3434    434  4445445\n",
       "2022-07-08   323.33   23342   5454   5454  4554445\n",
       "2022-07-07   443.44   42344   6433    233  7666756\n",
       "2022-07-06  2432.44  433432   2323    768    89765\n",
       "2022-07-30   432.40   23434   1332   2332  6786578\n",
       "2022-07-30    55.66  234234   3443   5445  8776876\n",
       "2022-07-18  6444.40  423234  55445   3434  8879878"
      ]
     },
     "execution_count": 43,
     "metadata": {},
     "output_type": "execute_result"
    }
   ],
   "source": [
    "import pandas as pd\n",
    "df= pd.read_csv(\"WorkingWithDate.csv\",parse_dates=[\"Date\"],index_col=\"Date\")\n",
    "df"
   ]
  },
  {
   "cell_type": "code",
   "execution_count": 44,
   "id": "448f4047",
   "metadata": {},
   "outputs": [
    {
     "data": {
      "text/plain": [
       "DatetimeIndex(['2022-07-07', '2022-07-08', '2022-07-07', '2022-07-06',\n",
       "               '2022-07-30', '2022-07-30', '2022-07-18'],\n",
       "              dtype='datetime64[ns]', name='Date', freq=None)"
      ]
     },
     "execution_count": 44,
     "metadata": {},
     "output_type": "execute_result"
    }
   ],
   "source": [
    "df.index"
   ]
  },
  {
   "cell_type": "code",
   "execution_count": 45,
   "id": "763bf4e6",
   "metadata": {},
   "outputs": [
    {
     "name": "stderr",
     "output_type": "stream",
     "text": [
      "C:\\Users\\SiddharthaN\\AppData\\Local\\Temp\\ipykernel_12164\\1862537852.py:1: FutureWarning: Indexing a DataFrame with a datetimelike index using a single string to slice the rows, like `frame[string]`, is deprecated and will be removed in a future version. Use `frame.loc[string]` instead.\n",
      "  df['2022']\n"
     ]
    },
    {
     "data": {
      "text/html": [
       "<div>\n",
       "<style scoped>\n",
       "    .dataframe tbody tr th:only-of-type {\n",
       "        vertical-align: middle;\n",
       "    }\n",
       "\n",
       "    .dataframe tbody tr th {\n",
       "        vertical-align: top;\n",
       "    }\n",
       "\n",
       "    .dataframe thead th {\n",
       "        text-align: right;\n",
       "    }\n",
       "</style>\n",
       "<table border=\"1\" class=\"dataframe\">\n",
       "  <thead>\n",
       "    <tr style=\"text-align: right;\">\n",
       "      <th></th>\n",
       "      <th>Open</th>\n",
       "      <th>High</th>\n",
       "      <th>Low</th>\n",
       "      <th>Close</th>\n",
       "      <th>Volume</th>\n",
       "    </tr>\n",
       "    <tr>\n",
       "      <th>Date</th>\n",
       "      <th></th>\n",
       "      <th></th>\n",
       "      <th></th>\n",
       "      <th></th>\n",
       "      <th></th>\n",
       "    </tr>\n",
       "  </thead>\n",
       "  <tbody>\n",
       "    <tr>\n",
       "      <th>2022-07-07</th>\n",
       "      <td>565.66</td>\n",
       "      <td>42343</td>\n",
       "      <td>3434</td>\n",
       "      <td>434</td>\n",
       "      <td>4445445</td>\n",
       "    </tr>\n",
       "    <tr>\n",
       "      <th>2022-07-08</th>\n",
       "      <td>323.33</td>\n",
       "      <td>23342</td>\n",
       "      <td>5454</td>\n",
       "      <td>5454</td>\n",
       "      <td>4554445</td>\n",
       "    </tr>\n",
       "    <tr>\n",
       "      <th>2022-07-07</th>\n",
       "      <td>443.44</td>\n",
       "      <td>42344</td>\n",
       "      <td>6433</td>\n",
       "      <td>233</td>\n",
       "      <td>7666756</td>\n",
       "    </tr>\n",
       "    <tr>\n",
       "      <th>2022-07-06</th>\n",
       "      <td>2432.44</td>\n",
       "      <td>433432</td>\n",
       "      <td>2323</td>\n",
       "      <td>768</td>\n",
       "      <td>89765</td>\n",
       "    </tr>\n",
       "    <tr>\n",
       "      <th>2022-07-30</th>\n",
       "      <td>432.40</td>\n",
       "      <td>23434</td>\n",
       "      <td>1332</td>\n",
       "      <td>2332</td>\n",
       "      <td>6786578</td>\n",
       "    </tr>\n",
       "    <tr>\n",
       "      <th>2022-07-30</th>\n",
       "      <td>55.66</td>\n",
       "      <td>234234</td>\n",
       "      <td>3443</td>\n",
       "      <td>5445</td>\n",
       "      <td>8776876</td>\n",
       "    </tr>\n",
       "    <tr>\n",
       "      <th>2022-07-18</th>\n",
       "      <td>6444.40</td>\n",
       "      <td>423234</td>\n",
       "      <td>55445</td>\n",
       "      <td>3434</td>\n",
       "      <td>8879878</td>\n",
       "    </tr>\n",
       "  </tbody>\n",
       "</table>\n",
       "</div>"
      ],
      "text/plain": [
       "               Open    High    Low  Close   Volume\n",
       "Date                                              \n",
       "2022-07-07   565.66   42343   3434    434  4445445\n",
       "2022-07-08   323.33   23342   5454   5454  4554445\n",
       "2022-07-07   443.44   42344   6433    233  7666756\n",
       "2022-07-06  2432.44  433432   2323    768    89765\n",
       "2022-07-30   432.40   23434   1332   2332  6786578\n",
       "2022-07-30    55.66  234234   3443   5445  8776876\n",
       "2022-07-18  6444.40  423234  55445   3434  8879878"
      ]
     },
     "execution_count": 45,
     "metadata": {},
     "output_type": "execute_result"
    }
   ],
   "source": [
    "df['2022']"
   ]
  },
  {
   "cell_type": "code",
   "execution_count": 46,
   "id": "f77c8e74",
   "metadata": {},
   "outputs": [
    {
     "data": {
      "text/html": [
       "<div>\n",
       "<style scoped>\n",
       "    .dataframe tbody tr th:only-of-type {\n",
       "        vertical-align: middle;\n",
       "    }\n",
       "\n",
       "    .dataframe tbody tr th {\n",
       "        vertical-align: top;\n",
       "    }\n",
       "\n",
       "    .dataframe thead th {\n",
       "        text-align: right;\n",
       "    }\n",
       "</style>\n",
       "<table border=\"1\" class=\"dataframe\">\n",
       "  <thead>\n",
       "    <tr style=\"text-align: right;\">\n",
       "      <th></th>\n",
       "      <th>Open</th>\n",
       "      <th>High</th>\n",
       "      <th>Low</th>\n",
       "      <th>Close</th>\n",
       "      <th>Volume</th>\n",
       "    </tr>\n",
       "    <tr>\n",
       "      <th>Date</th>\n",
       "      <th></th>\n",
       "      <th></th>\n",
       "      <th></th>\n",
       "      <th></th>\n",
       "      <th></th>\n",
       "    </tr>\n",
       "  </thead>\n",
       "  <tbody>\n",
       "    <tr>\n",
       "      <th>2022-07-07</th>\n",
       "      <td>565.66</td>\n",
       "      <td>42343</td>\n",
       "      <td>3434</td>\n",
       "      <td>434</td>\n",
       "      <td>4445445</td>\n",
       "    </tr>\n",
       "    <tr>\n",
       "      <th>2022-07-07</th>\n",
       "      <td>443.44</td>\n",
       "      <td>42344</td>\n",
       "      <td>6433</td>\n",
       "      <td>233</td>\n",
       "      <td>7666756</td>\n",
       "    </tr>\n",
       "  </tbody>\n",
       "</table>\n",
       "</div>"
      ],
      "text/plain": [
       "              Open   High   Low  Close   Volume\n",
       "Date                                           \n",
       "2022-07-07  565.66  42343  3434    434  4445445\n",
       "2022-07-07  443.44  42344  6433    233  7666756"
      ]
     },
     "execution_count": 46,
     "metadata": {},
     "output_type": "execute_result"
    }
   ],
   "source": [
    "df.loc['2022-07-07']"
   ]
  },
  {
   "cell_type": "code",
   "execution_count": 47,
   "id": "d4bdf422",
   "metadata": {},
   "outputs": [
    {
     "data": {
      "text/html": [
       "<div>\n",
       "<style scoped>\n",
       "    .dataframe tbody tr th:only-of-type {\n",
       "        vertical-align: middle;\n",
       "    }\n",
       "\n",
       "    .dataframe tbody tr th {\n",
       "        vertical-align: top;\n",
       "    }\n",
       "\n",
       "    .dataframe thead th {\n",
       "        text-align: right;\n",
       "    }\n",
       "</style>\n",
       "<table border=\"1\" class=\"dataframe\">\n",
       "  <thead>\n",
       "    <tr style=\"text-align: right;\">\n",
       "      <th></th>\n",
       "      <th>Open</th>\n",
       "      <th>High</th>\n",
       "      <th>Low</th>\n",
       "      <th>Close</th>\n",
       "      <th>Volume</th>\n",
       "    </tr>\n",
       "    <tr>\n",
       "      <th>Date</th>\n",
       "      <th></th>\n",
       "      <th></th>\n",
       "      <th></th>\n",
       "      <th></th>\n",
       "      <th></th>\n",
       "    </tr>\n",
       "  </thead>\n",
       "  <tbody>\n",
       "    <tr>\n",
       "      <th>2022-07-07</th>\n",
       "      <td>565.66</td>\n",
       "      <td>42343</td>\n",
       "      <td>3434</td>\n",
       "      <td>434</td>\n",
       "      <td>4445445</td>\n",
       "    </tr>\n",
       "    <tr>\n",
       "      <th>2022-07-08</th>\n",
       "      <td>323.33</td>\n",
       "      <td>23342</td>\n",
       "      <td>5454</td>\n",
       "      <td>5454</td>\n",
       "      <td>4554445</td>\n",
       "    </tr>\n",
       "    <tr>\n",
       "      <th>2022-07-07</th>\n",
       "      <td>443.44</td>\n",
       "      <td>42344</td>\n",
       "      <td>6433</td>\n",
       "      <td>233</td>\n",
       "      <td>7666756</td>\n",
       "    </tr>\n",
       "    <tr>\n",
       "      <th>2022-07-06</th>\n",
       "      <td>2432.44</td>\n",
       "      <td>433432</td>\n",
       "      <td>2323</td>\n",
       "      <td>768</td>\n",
       "      <td>89765</td>\n",
       "    </tr>\n",
       "  </tbody>\n",
       "</table>\n",
       "</div>"
      ],
      "text/plain": [
       "               Open    High   Low  Close   Volume\n",
       "Date                                             \n",
       "2022-07-07   565.66   42343  3434    434  4445445\n",
       "2022-07-08   323.33   23342  5454   5454  4554445\n",
       "2022-07-07   443.44   42344  6433    233  7666756\n",
       "2022-07-06  2432.44  433432  2323    768    89765"
      ]
     },
     "execution_count": 47,
     "metadata": {},
     "output_type": "execute_result"
    }
   ],
   "source": [
    "df.loc['2022-07'].head(4)"
   ]
  },
  {
   "cell_type": "code",
   "execution_count": 48,
   "id": "f79ea90a",
   "metadata": {},
   "outputs": [
    {
     "data": {
      "text/plain": [
       "2585.714285714286"
      ]
     },
     "execution_count": 48,
     "metadata": {},
     "output_type": "execute_result"
    }
   ],
   "source": [
    "df.loc['2022-07'].Close.mean()"
   ]
  },
  {
   "cell_type": "code",
   "execution_count": 49,
   "id": "cabb5575",
   "metadata": {},
   "outputs": [
    {
     "data": {
      "text/plain": [
       "6444.4"
      ]
     },
     "execution_count": 49,
     "metadata": {},
     "output_type": "execute_result"
    }
   ],
   "source": [
    "df.loc['2022-07'].Open.max()"
   ]
  },
  {
   "cell_type": "code",
   "execution_count": 50,
   "id": "a1d7be59",
   "metadata": {},
   "outputs": [
    {
     "data": {
      "text/html": [
       "<div>\n",
       "<style scoped>\n",
       "    .dataframe tbody tr th:only-of-type {\n",
       "        vertical-align: middle;\n",
       "    }\n",
       "\n",
       "    .dataframe tbody tr th {\n",
       "        vertical-align: top;\n",
       "    }\n",
       "\n",
       "    .dataframe thead th {\n",
       "        text-align: right;\n",
       "    }\n",
       "</style>\n",
       "<table border=\"1\" class=\"dataframe\">\n",
       "  <thead>\n",
       "    <tr style=\"text-align: right;\">\n",
       "      <th></th>\n",
       "      <th>Open</th>\n",
       "      <th>High</th>\n",
       "      <th>Low</th>\n",
       "      <th>Close</th>\n",
       "      <th>Volume</th>\n",
       "    </tr>\n",
       "    <tr>\n",
       "      <th>Date</th>\n",
       "      <th></th>\n",
       "      <th></th>\n",
       "      <th></th>\n",
       "      <th></th>\n",
       "      <th></th>\n",
       "    </tr>\n",
       "  </thead>\n",
       "  <tbody>\n",
       "    <tr>\n",
       "      <th>2022-07-07</th>\n",
       "      <td>565.66</td>\n",
       "      <td>42343</td>\n",
       "      <td>3434</td>\n",
       "      <td>434</td>\n",
       "      <td>4445445</td>\n",
       "    </tr>\n",
       "    <tr>\n",
       "      <th>2022-07-08</th>\n",
       "      <td>323.33</td>\n",
       "      <td>23342</td>\n",
       "      <td>5454</td>\n",
       "      <td>5454</td>\n",
       "      <td>4554445</td>\n",
       "    </tr>\n",
       "    <tr>\n",
       "      <th>2022-07-07</th>\n",
       "      <td>443.44</td>\n",
       "      <td>42344</td>\n",
       "      <td>6433</td>\n",
       "      <td>233</td>\n",
       "      <td>7666756</td>\n",
       "    </tr>\n",
       "    <tr>\n",
       "      <th>2022-07-06</th>\n",
       "      <td>2432.44</td>\n",
       "      <td>433432</td>\n",
       "      <td>2323</td>\n",
       "      <td>768</td>\n",
       "      <td>89765</td>\n",
       "    </tr>\n",
       "  </tbody>\n",
       "</table>\n",
       "</div>"
      ],
      "text/plain": [
       "               Open    High   Low  Close   Volume\n",
       "Date                                             \n",
       "2022-07-07   565.66   42343  3434    434  4445445\n",
       "2022-07-08   323.33   23342  5454   5454  4554445\n",
       "2022-07-07   443.44   42344  6433    233  7666756\n",
       "2022-07-06  2432.44  433432  2323    768    89765"
      ]
     },
     "execution_count": 50,
     "metadata": {},
     "output_type": "execute_result"
    }
   ],
   "source": [
    "#Date Range\n",
    "\n",
    "df.loc['2022-07-06':'2022-07-08']"
   ]
  },
  {
   "cell_type": "code",
   "execution_count": 51,
   "id": "ad8f8e6f",
   "metadata": {},
   "outputs": [
    {
     "data": {
      "text/html": [
       "<div>\n",
       "<style scoped>\n",
       "    .dataframe tbody tr th:only-of-type {\n",
       "        vertical-align: middle;\n",
       "    }\n",
       "\n",
       "    .dataframe tbody tr th {\n",
       "        vertical-align: top;\n",
       "    }\n",
       "\n",
       "    .dataframe thead th {\n",
       "        text-align: right;\n",
       "    }\n",
       "</style>\n",
       "<table border=\"1\" class=\"dataframe\">\n",
       "  <thead>\n",
       "    <tr style=\"text-align: right;\">\n",
       "      <th></th>\n",
       "      <th>Open</th>\n",
       "      <th>High</th>\n",
       "      <th>Low</th>\n",
       "      <th>Close</th>\n",
       "      <th>Volume</th>\n",
       "    </tr>\n",
       "    <tr>\n",
       "      <th>Date</th>\n",
       "      <th></th>\n",
       "      <th></th>\n",
       "      <th></th>\n",
       "      <th></th>\n",
       "      <th></th>\n",
       "    </tr>\n",
       "  </thead>\n",
       "  <tbody>\n",
       "    <tr>\n",
       "      <th>2022-07-07</th>\n",
       "      <td>443.44</td>\n",
       "      <td>42344</td>\n",
       "      <td>6433</td>\n",
       "      <td>233</td>\n",
       "      <td>7666756</td>\n",
       "    </tr>\n",
       "    <tr>\n",
       "      <th>2022-07-07</th>\n",
       "      <td>565.66</td>\n",
       "      <td>42343</td>\n",
       "      <td>3434</td>\n",
       "      <td>434</td>\n",
       "      <td>4445445</td>\n",
       "    </tr>\n",
       "    <tr>\n",
       "      <th>2022-07-06</th>\n",
       "      <td>2432.44</td>\n",
       "      <td>433432</td>\n",
       "      <td>2323</td>\n",
       "      <td>768</td>\n",
       "      <td>89765</td>\n",
       "    </tr>\n",
       "    <tr>\n",
       "      <th>2022-07-30</th>\n",
       "      <td>432.40</td>\n",
       "      <td>23434</td>\n",
       "      <td>1332</td>\n",
       "      <td>2332</td>\n",
       "      <td>6786578</td>\n",
       "    </tr>\n",
       "    <tr>\n",
       "      <th>2022-07-18</th>\n",
       "      <td>6444.40</td>\n",
       "      <td>423234</td>\n",
       "      <td>55445</td>\n",
       "      <td>3434</td>\n",
       "      <td>8879878</td>\n",
       "    </tr>\n",
       "    <tr>\n",
       "      <th>2022-07-30</th>\n",
       "      <td>55.66</td>\n",
       "      <td>234234</td>\n",
       "      <td>3443</td>\n",
       "      <td>5445</td>\n",
       "      <td>8776876</td>\n",
       "    </tr>\n",
       "    <tr>\n",
       "      <th>2022-07-08</th>\n",
       "      <td>323.33</td>\n",
       "      <td>23342</td>\n",
       "      <td>5454</td>\n",
       "      <td>5454</td>\n",
       "      <td>4554445</td>\n",
       "    </tr>\n",
       "  </tbody>\n",
       "</table>\n",
       "</div>"
      ],
      "text/plain": [
       "               Open    High    Low  Close   Volume\n",
       "Date                                              \n",
       "2022-07-07   443.44   42344   6433    233  7666756\n",
       "2022-07-07   565.66   42343   3434    434  4445445\n",
       "2022-07-06  2432.44  433432   2323    768    89765\n",
       "2022-07-30   432.40   23434   1332   2332  6786578\n",
       "2022-07-18  6444.40  423234  55445   3434  8879878\n",
       "2022-07-30    55.66  234234   3443   5445  8776876\n",
       "2022-07-08   323.33   23342   5454   5454  4554445"
      ]
     },
     "execution_count": 51,
     "metadata": {},
     "output_type": "execute_result"
    }
   ],
   "source": [
    "df.sort_values('Close',ascending=True)"
   ]
  },
  {
   "cell_type": "code",
   "execution_count": 52,
   "id": "e654e3d1",
   "metadata": {},
   "outputs": [
    {
     "data": {
      "text/html": [
       "<div>\n",
       "<style scoped>\n",
       "    .dataframe tbody tr th:only-of-type {\n",
       "        vertical-align: middle;\n",
       "    }\n",
       "\n",
       "    .dataframe tbody tr th {\n",
       "        vertical-align: top;\n",
       "    }\n",
       "\n",
       "    .dataframe thead th {\n",
       "        text-align: right;\n",
       "    }\n",
       "</style>\n",
       "<table border=\"1\" class=\"dataframe\">\n",
       "  <thead>\n",
       "    <tr style=\"text-align: right;\">\n",
       "      <th></th>\n",
       "      <th>Open</th>\n",
       "      <th>High</th>\n",
       "      <th>Low</th>\n",
       "      <th>Close</th>\n",
       "      <th>Volume</th>\n",
       "    </tr>\n",
       "    <tr>\n",
       "      <th>Date</th>\n",
       "      <th></th>\n",
       "      <th></th>\n",
       "      <th></th>\n",
       "      <th></th>\n",
       "      <th></th>\n",
       "    </tr>\n",
       "  </thead>\n",
       "  <tbody>\n",
       "    <tr>\n",
       "      <th>2022-07-06</th>\n",
       "      <td>2432.44</td>\n",
       "      <td>433432</td>\n",
       "      <td>2323</td>\n",
       "      <td>768</td>\n",
       "      <td>89765</td>\n",
       "    </tr>\n",
       "    <tr>\n",
       "      <th>2022-07-07</th>\n",
       "      <td>565.66</td>\n",
       "      <td>42343</td>\n",
       "      <td>3434</td>\n",
       "      <td>434</td>\n",
       "      <td>4445445</td>\n",
       "    </tr>\n",
       "    <tr>\n",
       "      <th>2022-07-07</th>\n",
       "      <td>443.44</td>\n",
       "      <td>42344</td>\n",
       "      <td>6433</td>\n",
       "      <td>233</td>\n",
       "      <td>7666756</td>\n",
       "    </tr>\n",
       "    <tr>\n",
       "      <th>2022-07-08</th>\n",
       "      <td>323.33</td>\n",
       "      <td>23342</td>\n",
       "      <td>5454</td>\n",
       "      <td>5454</td>\n",
       "      <td>4554445</td>\n",
       "    </tr>\n",
       "    <tr>\n",
       "      <th>2022-07-18</th>\n",
       "      <td>6444.40</td>\n",
       "      <td>423234</td>\n",
       "      <td>55445</td>\n",
       "      <td>3434</td>\n",
       "      <td>8879878</td>\n",
       "    </tr>\n",
       "    <tr>\n",
       "      <th>2022-07-30</th>\n",
       "      <td>432.40</td>\n",
       "      <td>23434</td>\n",
       "      <td>1332</td>\n",
       "      <td>2332</td>\n",
       "      <td>6786578</td>\n",
       "    </tr>\n",
       "    <tr>\n",
       "      <th>2022-07-30</th>\n",
       "      <td>55.66</td>\n",
       "      <td>234234</td>\n",
       "      <td>3443</td>\n",
       "      <td>5445</td>\n",
       "      <td>8776876</td>\n",
       "    </tr>\n",
       "  </tbody>\n",
       "</table>\n",
       "</div>"
      ],
      "text/plain": [
       "               Open    High    Low  Close   Volume\n",
       "Date                                              \n",
       "2022-07-06  2432.44  433432   2323    768    89765\n",
       "2022-07-07   565.66   42343   3434    434  4445445\n",
       "2022-07-07   443.44   42344   6433    233  7666756\n",
       "2022-07-08   323.33   23342   5454   5454  4554445\n",
       "2022-07-18  6444.40  423234  55445   3434  8879878\n",
       "2022-07-30   432.40   23434   1332   2332  6786578\n",
       "2022-07-30    55.66  234234   3443   5445  8776876"
      ]
     },
     "execution_count": 52,
     "metadata": {},
     "output_type": "execute_result"
    }
   ],
   "source": [
    "df.sort_index()"
   ]
  },
  {
   "cell_type": "code",
   "execution_count": 82,
   "id": "aa455096",
   "metadata": {},
   "outputs": [
    {
     "name": "stderr",
     "output_type": "stream",
     "text": [
      "C:\\Users\\SiddharthaN\\AppData\\Local\\Temp\\ipykernel_12164\\653090443.py:3: FutureWarning: reindexing with a non-unique Index is deprecated and will raise in a future version.\n",
      "  df.sort_index().asfreq('M')\n"
     ]
    },
    {
     "data": {
      "text/html": [
       "<div>\n",
       "<style scoped>\n",
       "    .dataframe tbody tr th:only-of-type {\n",
       "        vertical-align: middle;\n",
       "    }\n",
       "\n",
       "    .dataframe tbody tr th {\n",
       "        vertical-align: top;\n",
       "    }\n",
       "\n",
       "    .dataframe thead th {\n",
       "        text-align: right;\n",
       "    }\n",
       "</style>\n",
       "<table border=\"1\" class=\"dataframe\">\n",
       "  <thead>\n",
       "    <tr style=\"text-align: right;\">\n",
       "      <th></th>\n",
       "      <th>Open</th>\n",
       "      <th>High</th>\n",
       "      <th>Low</th>\n",
       "      <th>Close</th>\n",
       "      <th>Volume</th>\n",
       "    </tr>\n",
       "    <tr>\n",
       "      <th>Date</th>\n",
       "      <th></th>\n",
       "      <th></th>\n",
       "      <th></th>\n",
       "      <th></th>\n",
       "      <th></th>\n",
       "    </tr>\n",
       "  </thead>\n",
       "  <tbody>\n",
       "  </tbody>\n",
       "</table>\n",
       "</div>"
      ],
      "text/plain": [
       "Empty DataFrame\n",
       "Columns: [Open, High, Low, Close, Volume]\n",
       "Index: []"
      ]
     },
     "execution_count": 82,
     "metadata": {},
     "output_type": "execute_result"
    }
   ],
   "source": [
    "#monthly frequency\n",
    "\n",
    "df.sort_index().asfreq('M')"
   ]
  },
  {
   "cell_type": "code",
   "execution_count": 76,
   "id": "4be62123",
   "metadata": {},
   "outputs": [
    {
     "data": {
      "text/plain": [
       "<AxesSubplot: xlabel='Date'>"
      ]
     },
     "execution_count": 76,
     "metadata": {},
     "output_type": "execute_result"
    },
    {
     "data": {
      "image/png": "[encoded data removed]",
      "text/plain": [
       "<Figure size 640x480 with 1 Axes>"
      ]
     },
     "metadata": {},
     "output_type": "display_data"
    }
   ],
   "source": [
    "df.sort_values(['High']).plot()"
   ]
  },
  {
   "cell_type": "code",
   "execution_count": 87,
   "id": "c369013c",
   "metadata": {},
   "outputs": [],
   "source": [
    "#df.sort_index().asfreq('W',method=\"pad\")['Close'].plot()"
   ]
  },
  {
   "cell_type": "code",
   "execution_count": 90,
   "id": "5b4e73bb",
   "metadata": {},
   "outputs": [
    {
     "data": {
      "text/plain": [
       "<AxesSubplot: xlabel='Date'>"
      ]
     },
     "execution_count": 90,
     "metadata": {},
     "output_type": "execute_result"
    },
    {
     "data": {
      "image/png": "[encoded data removed]",
      "text/plain": [
       "<Figure size 640x480 with 1 Axes>"
      ]
     },
     "metadata": {},
     "output_type": "display_data"
    }
   ],
   "source": [
    "df.sort_values(['Volume']).plot(kind=\"bar\")"
   ]
  },
  {
   "cell_type": "code",
   "execution_count": null,
   "id": "01afbbc4",
   "metadata": {},
   "outputs": [],
   "source": []
  }
 ],
 "metadata": {
  "kernelspec": {
   "display_name": "Python 3 (ipykernel)",
   "language": "python",
   "name": "python3"
  },
  "language_info": {
   "codemirror_mode": {
    "name": "ipython",
    "version": 3
   },
   "file_extension": ".py",
   "mimetype": "text/x-python",
   "name": "python",
   "nbconvert_exporter": "python",
   "pygments_lexer": "ipython3",
   "version": "3.11.1"
  }
 },
 "nbformat": 4,
 "nbformat_minor": 5
}
