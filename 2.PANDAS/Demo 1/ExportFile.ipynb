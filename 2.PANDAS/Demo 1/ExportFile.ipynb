{
 "cells": [
  {
   "cell_type": "code",
   "execution_count": 2,
   "id": "23ada07a",
   "metadata": {},
   "outputs": [
    {
     "data": {
      "text/html": [
       "<div>\n",
       "<style scoped>\n",
       "    .dataframe tbody tr th:only-of-type {\n",
       "        vertical-align: middle;\n",
       "    }\n",
       "\n",
       "    .dataframe tbody tr th {\n",
       "        vertical-align: top;\n",
       "    }\n",
       "\n",
       "    .dataframe thead th {\n",
       "        text-align: right;\n",
       "    }\n",
       "</style>\n",
       "<table border=\"1\" class=\"dataframe\">\n",
       "  <thead>\n",
       "    <tr style=\"text-align: right;\">\n",
       "      <th></th>\n",
       "      <th>Day</th>\n",
       "      <th>Wind Speed</th>\n",
       "      <th>Event</th>\n",
       "    </tr>\n",
       "  </thead>\n",
       "  <tbody>\n",
       "    <tr>\n",
       "      <th>0</th>\n",
       "      <td>01/05/2022</td>\n",
       "      <td>34.5</td>\n",
       "      <td>Rain</td>\n",
       "    </tr>\n",
       "    <tr>\n",
       "      <th>1</th>\n",
       "      <td>01/06/2022</td>\n",
       "      <td>36.0</td>\n",
       "      <td>Sunny</td>\n",
       "    </tr>\n",
       "    <tr>\n",
       "      <th>2</th>\n",
       "      <td>01/07/2022</td>\n",
       "      <td>37.2</td>\n",
       "      <td>Snow</td>\n",
       "    </tr>\n",
       "  </tbody>\n",
       "</table>\n",
       "</div>"
      ],
      "text/plain": [
       "          Day  Wind Speed  Event\n",
       "0  01/05/2022        34.5   Rain\n",
       "1  01/06/2022        36.0  Sunny\n",
       "2  01/07/2022        37.2   Snow"
      ]
     },
     "execution_count": 2,
     "metadata": {},
     "output_type": "execute_result"
    }
   ],
   "source": [
    "import pandas as pd\n",
    "\n",
    "weatherData =[\n",
    "     ('01/05/2022',34.5,'Rain'),\n",
    "     ('01/06/2022',36,'Sunny'),\n",
    "     ('01/07/2022',37.2,'Snow')\n",
    " ]\n",
    "\n",
    "df = pd.DataFrame(data=weatherData,columns=['Day','Wind Speed','Event'])\n",
    "\n",
    "df"
   ]
  },
  {
   "cell_type": "code",
   "execution_count": 5,
   "id": "5ec2d4f9",
   "metadata": {},
   "outputs": [],
   "source": [
    "df.to_csv(\"NewFile.csv\")\n",
    "\n",
    "df.to_csv(\"NewFile2.csv\",columns=[\"Day\",\"Event\"])"
   ]
  },
  {
   "cell_type": "code",
   "execution_count": 7,
   "id": "f12cddf0",
   "metadata": {},
   "outputs": [],
   "source": [
    "df_weather=pd.DataFrame({\n",
    "    \"Day\":['01/03/2022','08/05/2022','01/06/2012'],\n",
    "    \"Temperature\":[32,34,40],\n",
    "    \"Event\":['Rainy','Normal','Sunny']\n",
    "})\n",
    "\n",
    "with pd.ExcelWriter('Combined_Excel.xlsx') as writer:\n",
    "    df.to_excel(writer,sheet_name=\"days\")\n",
    "    df_weather.to_excel(writer,sheet_name=\"weather\")"
   ]
  },
  {
   "cell_type": "code",
   "execution_count": null,
   "id": "a03cccd0",
   "metadata": {},
   "outputs": [],
   "source": []
  }
 ],
 "metadata": {
  "kernelspec": {
   "display_name": "Python 3 (ipykernel)",
   "language": "python",
   "name": "python3"
  },
  "language_info": {
   "codemirror_mode": {
    "name": "ipython",
    "version": 3
   },
   "file_extension": ".py",
   "mimetype": "text/x-python",
   "name": "python",
   "nbconvert_exporter": "python",
   "pygments_lexer": "ipython3",
   "version": "3.11.1"
  }
 },
 "nbformat": 4,
 "nbformat_minor": 5
}
