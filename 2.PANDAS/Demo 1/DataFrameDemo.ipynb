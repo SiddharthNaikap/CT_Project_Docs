{
 "cells": [
  {
   "cell_type": "code",
   "execution_count": 23,
   "id": "c394547b",
   "metadata": {},
   "outputs": [
    {
     "data": {
      "text/plain": [
       "0      pune\n",
       "1    mumbai\n",
       "2    mumbai\n",
       "Name: city, dtype: object"
      ]
     },
     "execution_count": 23,
     "metadata": {},
     "output_type": "execute_result"
    }
   ],
   "source": [
    "import pandas as pd\n",
    "\n",
    "df = pd.DataFrame({\n",
    "    \"name\":[\"ajit\",\"sid\",\"sam\"],\n",
    "    \"city\":[\"pune\",\"mumbai\",\"mumbai\"]\n",
    "    \n",
    "})\n",
    "\n",
    "df\n",
    "\n",
    "df[\"city\"]"
   ]
  },
  {
   "cell_type": "code",
   "execution_count": 26,
   "id": "edaa7b00",
   "metadata": {},
   "outputs": [
    {
     "data": {
      "text/html": [
       "<div>\n",
       "<style scoped>\n",
       "    .dataframe tbody tr th:only-of-type {\n",
       "        vertical-align: middle;\n",
       "    }\n",
       "\n",
       "    .dataframe tbody tr th {\n",
       "        vertical-align: top;\n",
       "    }\n",
       "\n",
       "    .dataframe thead th {\n",
       "        text-align: right;\n",
       "    }\n",
       "</style>\n",
       "<table border=\"1\" class=\"dataframe\">\n",
       "  <thead>\n",
       "    <tr style=\"text-align: right;\">\n",
       "      <th></th>\n",
       "      <th>Day</th>\n",
       "      <th>Wind Speed</th>\n",
       "      <th>Event</th>\n",
       "    </tr>\n",
       "  </thead>\n",
       "  <tbody>\n",
       "    <tr>\n",
       "      <th>0</th>\n",
       "      <td>01/05/2022</td>\n",
       "      <td>34.5</td>\n",
       "      <td>Rain</td>\n",
       "    </tr>\n",
       "    <tr>\n",
       "      <th>1</th>\n",
       "      <td>01/06/2022</td>\n",
       "      <td>36.0</td>\n",
       "      <td>Sunny</td>\n",
       "    </tr>\n",
       "    <tr>\n",
       "      <th>2</th>\n",
       "      <td>01/07/2022</td>\n",
       "      <td>37.2</td>\n",
       "      <td>Snow</td>\n",
       "    </tr>\n",
       "  </tbody>\n",
       "</table>\n",
       "</div>"
      ],
      "text/plain": [
       "          Day  Wind Speed  Event\n",
       "0  01/05/2022        34.5   Rain\n",
       "1  01/06/2022        36.0  Sunny\n",
       "2  01/07/2022        37.2   Snow"
      ]
     },
     "execution_count": 26,
     "metadata": {},
     "output_type": "execute_result"
    }
   ],
   "source": [
    " weatherData =[\n",
    "     ('01/05/2022',34.5,'Rain'),\n",
    "     ('01/06/2022',36,'Sunny'),\n",
    "     ('01/07/2022',37.2,'Snow')\n",
    " ]\n",
    "\n",
    "df = pd.DataFrame(data=weatherData,columns=['Day','Wind Speed','Event'])\n",
    "\n",
    "df"
   ]
  },
  {
   "cell_type": "code",
   "execution_count": null,
   "id": "2ea2e999",
   "metadata": {},
   "outputs": [],
   "source": []
  },
  {
   "cell_type": "code",
   "execution_count": null,
   "id": "53a23585",
   "metadata": {},
   "outputs": [],
   "source": []
  }
 ],
 "metadata": {
  "kernelspec": {
   "display_name": "Python 3 (ipykernel)",
   "language": "python",
   "name": "python3"
  },
  "language_info": {
   "codemirror_mode": {
    "name": "ipython",
    "version": 3
   },
   "file_extension": ".py",
   "mimetype": "text/x-python",
   "name": "python",
   "nbconvert_exporter": "python",
   "pygments_lexer": "ipython3",
   "version": "3.11.1"
  }
 },
 "nbformat": 4,
 "nbformat_minor": 5
}
